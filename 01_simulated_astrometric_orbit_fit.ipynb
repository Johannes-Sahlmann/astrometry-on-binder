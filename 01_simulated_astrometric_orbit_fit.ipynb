{
 "cells": [
  {
   "cell_type": "markdown",
   "id": "46ec3ea5-6a44-4c7e-949b-9daa17f90cc3",
   "metadata": {},
   "source": [
    "# Fitting the orbit of an exoplanet host star using simulated Gaia astrometry time series\n",
    "\n",
    "### On the basis of https://zenodo.org/records/7081002 with contributions by B. Holl and J.-B. Delisle"
   ]
  },
  {
   "cell_type": "markdown",
   "id": "92f7ca12-1bb9-4853-a7bb-6c73e6b6c659",
   "metadata": {},
   "source": [
    "### Imports"
   ]
  },
  {
   "cell_type": "code",
   "execution_count": null,
   "id": "61537d3c-5aec-48d8-b6dd-a27e681d0d68",
   "metadata": {},
   "outputs": [],
   "source": [
    "from collections import OrderedDict\n",
    "import copy\n",
    "import glob\n",
    "import os\n",
    "\n",
    "import astropy.units as u\n",
    "from astroquery.gaia import Gaia\n",
    "from astropy.time import Time\n",
    "import matplotlib.pyplot as pl\n",
    "import numpy as np\n",
    "import pandas as pd\n",
    "\n",
    "from kepmodel.astro import AstroModel as AstrometricModel\n",
    "import spleaf\n",
    "from pystrometry.pystrometry import convert_from_angular_to_linear, pjGet_m2, OrbitSystem, MS_kg, MJ_kg\n",
    "from pystrometry import gaia_astrometry"
   ]
  },
  {
   "cell_type": "markdown",
   "id": "96f5ae06-402f-4cd8-a9ff-bb97cd6f162b",
   "metadata": {},
   "source": [
    "### A helper function for plotting"
   ]
  },
  {
   "cell_type": "code",
   "execution_count": null,
   "id": "c63dd549-ebb9-4013-9e98-4e85bd08adbd",
   "metadata": {},
   "outputs": [],
   "source": [
    "def plot_astrometry(simulated_astrometry, parameter_df, plot_dir, reference_time, model_name):\n",
    "    \"\"\"Make a figure showing the model and the data.\"\"\"\n",
    "    \n",
    "    source_id = parameter_df.loc[0, 'source_id']\n",
    "\n",
    "    iad = gaia_astrometry.GaiaValIad.from_dataframe(simulated_astrometry, source_id, 'source_id')\n",
    "\n",
    "    # iad.filter_on_strip(strip_threshold=2)\n",
    "    iad._mjd_field = 'mjd'\n",
    "    iad.time_column = 'relative_time_year'\n",
    "    iad.set_reference_time(reference_time)\n",
    "\n",
    "    parameter_dict = parameter_df[parameter_df['source_id'] == source_id].iloc[0].to_dict()\n",
    "    parameter_dict['source_id'] = np.int64(source_id)\n",
    "    parameter_dict['name_seed'] = f\"{source_id}_{model_name}\"\n",
    "    if model_name == 'single_star':\n",
    "        axp = gaia_astrometry.plot_individual_ppm(parameter_dict, iad, plot_dir)\n",
    "    elif model_name == 'multiple_star':\n",
    "        axp = gaia_astrometry.plot_individual_orbit(parameter_dict, iad, mapping_dr3id_to_starname=None, plot_dir=plot_dir, m1_MS=parameter_dict['m1_MS'])"
   ]
  },
  {
   "cell_type": "code",
   "execution_count": null,
   "id": "f9d48ab9-6cc5-4fe7-9b2a-e82748d59c63",
   "metadata": {},
   "outputs": [],
   "source": [
    "base_dir = os.getcwd()\n",
    "plot_dir = os.path.join(base_dir)"
   ]
  },
  {
   "cell_type": "markdown",
   "id": "587a09d8-f9b8-4f82-886f-701bf188bc05",
   "metadata": {},
   "source": [
    "### Load simulated astrometry data"
   ]
  },
  {
   "cell_type": "code",
   "execution_count": null,
   "id": "09837445-4830-447d-9af3-7e64cccbf26a",
   "metadata": {},
   "outputs": [],
   "source": [
    "data_file = 'simulated_astrometry.csv'\n",
    "simulated_astrometry = pd.read_csv(data_file)\n",
    "display(simulated_astrometry[['Target', 'source_id', 'relative_time_year', 'scanAngle[rad]', 'centroidPosAl_mas', 'centroidPosAlError_mas']])"
   ]
  },
  {
   "cell_type": "markdown",
   "id": "2794e97b-2f16-46d2-9566-e775a9df84bd",
   "metadata": {
    "tags": []
   },
   "source": [
    "## Fit the Keplerian astrometric model using [kepmodel](https://obswww.unige.ch/~delisle/kepmodel/doc/) (https://ui.adsabs.harvard.edu/abs/2022A%26A...667A.172D/abstract)\n",
    "The astrometric motion corresponding to a Keplerian orbit of a binary system has generally seven independent parameters. These\n",
    "are the period $P$, the epoch of periastron passage $T_0$, the eccentricity $e$, the inclination $i$, the ascending node $\\Omega$, the argument of periastron $\\omega$, and the semi-major axis of the photocentre $a_0$.\n",
    "The Thiele-Innes coefficients $A, B, F, G$, which linearise part of the equations are defined as described e.g. in https://ui.adsabs.harvard.edu/abs/2023A%26A...674A..10H/abstract \n",
    "\n",
    "<!-- \\begin{eqnarray}\n",
    "\\begin{split}\n",
    " \\begin{array}{ll}\n",
    "A &=&  \\ \\ \\, a_0 \\; (\\cos \\omega \\cos \\Omega - \\sin \\omega \\sin \\Omega \\cos i)   \\\\\n",
    "B &=&  \\ \\ \\, a_0 \\; (\\cos \\omega \\sin \\Omega + \\sin \\omega \\cos \\Omega \\cos i)  \\\\\n",
    "F &=& -a_0 \\; (\\sin \\omega \\cos \\Omega + \\cos \\omega \\sin \\Omega \\cos i)  \\\\\n",
    "G &=&  -a_0 \\; (\\sin \\omega \\sin \\Omega - \\cos \\omega \\cos \\Omega \\cos i) \n",
    " \\end{array}\n",
    "\\end{split}\n",
    "\\label{eq:cu4nss_astrobin_orbital_ABFG}\n",
    "\\end{eqnarray}\n",
    "The elliptical rectangular coordinates $X$ and $Y$ are functions of eccentric anomaly $E$ and eccentricity: \n",
    "\\begin{eqnarray}\n",
    "E - e \\sin E &=& \\frac{2\\pi}{P} (t-T_0)\\\\\n",
    "X &=& \\cos E - e\\\\\n",
    "Y &=& \\sqrt{1-e^2} \\sin E\n",
    "\\end{eqnarray}\n",
    "The single Keplerian model can then be written as \n",
    "\\begin{equation}\\label{eq:k1_model}\n",
    "w_\\mathrm{k1} = (B \\, X + G \\, Y) \\sin \\psi + (A \\, X + F \\, Y) \\cos \\psi.\n",
    "\\end{equation}\n",
    "The combined model $w^\\mathrm{(model)}$ for the Gaia along-scan abscissa is\n",
    "\n",
    "\\begin{equation}\\label{eq:abscissa1}\n",
    "\\begin{split}\n",
    "w^\\mathrm{(model)} =&\\, w_\\mathrm{ss} + w_\\mathrm{k1} \\\\\n",
    " =&\\, ( \\Delta\\alpha^{\\star} + \\mu_{\\alpha^\\star} \\, t ) \\, \\sin \\psi + ( \\Delta\\delta + \\mu_\\delta \\, t ) \\, \\cos \\psi + \\varpi \\, f_\\varpi \\\\\n",
    " &+\\, (B \\, X + G \\, Y) \\sin \\psi + (A \\, X + F \\, Y) \\cos \\psi.\n",
    "\\end{split}\\end{equation}\n",
    "\n",
    "Standard model:\n",
    "\\begin{equation}\\label{eq:single_source_model}\n",
    "w_\\mathrm{ss} = ( \\Delta\\alpha^{\\star} + \\mu_{\\alpha^\\star} \\, t ) \\, \\sin \\psi + ( \\Delta\\delta + \\mu_\\delta \\, t ) \\, \\cos \\psi + \\varpi \\, f_\\varpi, \n",
    "\\end{equation}\n",
    " -->\n",
    "\n"
   ]
  },
  {
   "cell_type": "markdown",
   "id": "44dd85be-1e20-4992-b5c4-6d9661f9c858",
   "metadata": {},
   "source": [
    "### First fit the single-star model"
   ]
  },
  {
   "cell_type": "code",
   "execution_count": null,
   "id": "9ad10b6e-573f-4d84-aeaf-f99f9fa9f30d",
   "metadata": {},
   "outputs": [],
   "source": [
    "simulated_astrometry['relative_time_day'] = simulated_astrometry['relative_time_year'] * u.year.to(u.day)\n",
    "\n",
    "single_star_model = AstrometricModel(simulated_astrometry['relative_time_day'].values, \n",
    "                                     simulated_astrometry['centroidPosAl_mas'].values, \n",
    "                                     simulated_astrometry['cpsi_obs'].values, \n",
    "                                     simulated_astrometry['spsi_obs'].values, \n",
    "                                     err=spleaf.term.Error(simulated_astrometry['centroidPosAlError_mas'].values),\n",
    "                                     jit=spleaf.term.Jitter(0.05))\n",
    "\n",
    "print(\"=== Single star model ===\")\n",
    "single_star_model.add_lin(simulated_astrometry['spsi_obs'].values, 'ra')\n",
    "single_star_model.add_lin(simulated_astrometry['cpsi_obs'].values, 'dec')\n",
    "single_star_model.add_lin(simulated_astrometry['parallaxFactorAlongScan'].values, 'parallax')\n",
    "single_star_model.add_lin(simulated_astrometry['relative_time_year'].values * simulated_astrometry['spsi_obs'].values, 'mura')\n",
    "single_star_model.add_lin(simulated_astrometry['relative_time_year'].values * simulated_astrometry['cpsi_obs'].values, 'mudec')\n",
    "single_star_model.fit_param += ['cov.jit.sig'] # add a jitter term\n",
    "single_star_model.fit()\n",
    "single_star_model.show_param()"
   ]
  },
  {
   "cell_type": "markdown",
   "id": "5771ceef-04b6-49c4-8d3c-a4f4d128147a",
   "metadata": {},
   "source": [
    "## Add the Keplerian motion to the model"
   ]
  },
  {
   "cell_type": "code",
   "execution_count": null,
   "id": "b74b7e76-eb63-4c19-9996-69bd6d350ee0",
   "metadata": {},
   "outputs": [],
   "source": [
    "model = copy.deepcopy(single_star_model)\n",
    "\n",
    "# Periodogram settings\n",
    "Pmin = 5\n",
    "Pmax = 50000\n",
    "nfreq = 10000\n",
    "nu0 = 2 * np.pi / Pmax\n",
    "dnu = (2 * np.pi / Pmin - nu0) / (nfreq - 1)\n",
    "fap_threshold = 1e-3\n",
    "\n",
    "for kpla in range(1):\n",
    "    res = model.residuals()\n",
    "    res_err = np.sqrt(model.cov.A)\n",
    "    pl.figure()\n",
    "    pl.errorbar(model.t,res, yerr=res_err, fmt='.', rasterized=True, ecolor='lightgrey')\n",
    "    pl.ylabel('Residuals (mas)')\n",
    "    pl.show()    \n",
    "    nu, power = model.periodogram(nu0, dnu, nfreq)\n",
    "    P = 2 * np.pi / nu\n",
    "    \n",
    "    kmax = np.argmax(power)\n",
    "    faplvl = model.fap(power[kmax], nu.max())\n",
    "\n",
    "    pl.figure(figsize=(10, 3))\n",
    "    pl.plot(2 * [P[kmax]], [0, 1.1 * power.max()], 'r')\n",
    "    pl.plot(P, power, 'k', lw=1.2, rasterized=True)\n",
    "    pl.xlim(Pmin, Pmax)\n",
    "    pl.ylim(0, 1.1 * power.max())\n",
    "    pl.xscale('log')\n",
    "    pl.xlabel('Period (d)')\n",
    "    pl.ylabel('Normalized power')\n",
    "    pl.title(f'P={P[kmax]:.3f} d' + 20*' ' + f'FAP={faplvl:.2g}')\n",
    "    # pl.axhline(fap_threshold, ls='--', label='fap_threshold')\n",
    "    pl.show()\n",
    "    \n",
    "    if faplvl > fap_threshold:\n",
    "        print('No more significant peak')\n",
    "        break\n",
    "    print(f'Add a planet at {P[kmax]:.3f} d:')\n",
    "    model.add_keplerian_from_period(P[kmax])\n",
    "    model.fit()\n",
    "    model.show_param()\n",
    "    \n",
    "    print('Change orbital parameter set:')\n",
    "    param = ['P', 'Tp', 'as', 'e', 'w', 'i', 'bigw']\n",
    "    model.set_keplerian_param(f'{kpla}', param=param)\n",
    "    model.show_param()    "
   ]
  },
  {
   "cell_type": "code",
   "execution_count": null,
   "id": "7f6ab1d8-a15b-45b0-9237-669273056a08",
   "metadata": {},
   "outputs": [],
   "source": [
    "keplerian_parameters = {}\n",
    "for i, key in enumerate(model.keplerian['0']._param):\n",
    "    keplerian_parameters[key] = model.keplerian['0']._par[i]\n",
    "\n",
    "linear_parameters = {}\n",
    "for i, key in enumerate(model._lin_name):\n",
    "    linear_parameters[key] = model._lin_par[i]\n",
    "    \n",
    "print(linear_parameters)    \n",
    "print(keplerian_parameters)    "
   ]
  },
  {
   "cell_type": "markdown",
   "id": "2e6a6cbb-082b-4f66-8603-d0f37cb3475f",
   "metadata": {},
   "source": [
    "## Retrieve coordinates from Gaia DR3"
   ]
  },
  {
   "cell_type": "code",
   "execution_count": null,
   "id": "7f4298c9-bcfa-4356-acdc-d24a57f123d9",
   "metadata": {
    "tags": []
   },
   "outputs": [],
   "source": [
    "# get source coordinates from DR3\n",
    "source_id = simulated_astrometry.loc[0, 'source_id']\n",
    "\n",
    "query = f\"SELECT ra,dec,parallax,pmra,pmdec,ref_epoch FROM gaiadr3.gaia_source WHERE source_id = {source_id}\"\n",
    "job = Gaia.launch_job_async(query=query, verbose=True)\n",
    "dr3_gaia_source = job.get_results().to_pandas()\n",
    "display(dr3_gaia_source)"
   ]
  },
  {
   "cell_type": "markdown",
   "id": "d4caaf91-5033-4df2-9897-45b35807d6ce",
   "metadata": {},
   "source": [
    "## Retrieve a primary-mass estimate from Gaia DR3"
   ]
  },
  {
   "cell_type": "code",
   "execution_count": null,
   "id": "6f2f722d-eb08-4fce-8a55-e05715f270aa",
   "metadata": {},
   "outputs": [],
   "source": [
    "query_m1 = f\"SELECT m1, m2 FROM gaiadr3.binary_masses WHERE source_id = {source_id}\"\n",
    "job_m1 = Gaia.launch_job_async(query=query_m1, verbose=True)\n",
    "dr3_binary_masses = job_m1.get_results().to_pandas()\n",
    "display(dr3_binary_masses)\n",
    "\n",
    "m1_MS_gaia = dr3_binary_masses._get_value(0, 'm1')\n",
    "print(m1_MS_gaia)"
   ]
  },
  {
   "cell_type": "markdown",
   "id": "2694d80f-5b94-4f70-b7c7-9e9e81e605ec",
   "metadata": {},
   "source": [
    "## Create orbit model Plot the fitted orbit and the astrometry\n",
    "\n",
    "This uses several helper functions and most of the code below is only formatting"
   ]
  },
  {
   "cell_type": "code",
   "execution_count": null,
   "id": "299ffbb7-0420-4064-a172-065ce9aa9bf3",
   "metadata": {},
   "outputs": [],
   "source": [
    "reference_time = Time(simulated_astrometry.loc[0, 'ref_epoch'], format='jyear')\n",
    "model_name = 'multiple_star'\n",
    "\n",
    "attribute_dict = OrderedDict([  \n",
    "                                ('ra', dr3_gaia_source.loc[0,'ra']), \n",
    "                                ('dec', dr3_gaia_source.loc[0,'dec']),\n",
    "    \n",
    "                                ('absolute_plx_mas', linear_parameters['parallax']), \n",
    "                                ('muRA_mas', linear_parameters['mura']),\n",
    "                                ('muDE_mas', linear_parameters['mudec']),\n",
    "                                ('muAlphaStar_masPyr', linear_parameters['mura']),\n",
    "                                ('muDelta_masPyr', linear_parameters['mudec']),\n",
    "                                ('Tref_MJD', reference_time.mjd),\n",
    "                                ('scan_angle_definition', 'gaia'),\n",
    "                             ])  \n",
    "\n",
    "# compute companion mass corresponding to orbital parameters\n",
    "#m1_MS = 1.  \n",
    "\n",
    "# USE QUERIED GAIA m1_MS value <=======================\n",
    "m1_MS = m1_MS_gaia\n",
    "\n",
    "a_m = convert_from_angular_to_linear(keplerian_parameters['as'], linear_parameters['parallax'])\n",
    "m2_kg = pjGet_m2(m1_MS * MS_kg, a_m, keplerian_parameters['P'])\n",
    "m2_MJ = m2_kg / MJ_kg\n",
    "    \n",
    "attribute_dict['m2_MJ'] = m2_MJ\n",
    "attribute_dict['m1_MS'] = m1_MS\n",
    "attribute_dict['P_day'] = keplerian_parameters['P']\n",
    "attribute_dict['p1_omega_deg'] = np.rad2deg(keplerian_parameters['w'])\n",
    "attribute_dict['ecc'] = keplerian_parameters['e']\n",
    "attribute_dict['p1_OMEGA_deg'] = np.rad2deg(keplerian_parameters['bigw'])\n",
    "attribute_dict['p1_incl_deg'] = np.rad2deg(keplerian_parameters['i'])\n",
    "attribute_dict['p1_Tp_day'] = attribute_dict['Tref_MJD'] + keplerian_parameters['Tp']  # this is in MJD\n",
    "attribute_dict['p1_a1_mas'] = keplerian_parameters['as']\n",
    "attribute_dict['p1_ecc'] = keplerian_parameters['e']\n",
    "attribute_dict['p1_period_day'] = keplerian_parameters['P']\n",
    "attribute_dict['p1_Tp_day-T0'] = keplerian_parameters['Tp']\n",
    "attribute_dict['offset_alphastar_mas'] = linear_parameters['ra']\n",
    "attribute_dict['offset_delta_mas'] = linear_parameters['dec']\n",
    "\n",
    "attribute_dict['source_id'] = source_id\n",
    "\n",
    "plot_astrometry(simulated_astrometry, pd.DataFrame(attribute_dict, index=[0]), plot_dir, reference_time, model_name)    "
   ]
  },
  {
   "cell_type": "code",
   "execution_count": null,
   "id": "c9085675-ade9-4f18-ae2a-e1e01b1a9485",
   "metadata": {},
   "outputs": [],
   "source": []
  }
 ],
 "metadata": {
  "kernelspec": {
   "display_name": "nsspy",
   "language": "python",
   "name": "nsspy"
  },
  "language_info": {
   "codemirror_mode": {
    "name": "ipython",
    "version": 3
   },
   "file_extension": ".py",
   "mimetype": "text/x-python",
   "name": "python",
   "nbconvert_exporter": "python",
   "pygments_lexer": "ipython3",
   "version": "3.8.16"
  }
 },
 "nbformat": 4,
 "nbformat_minor": 5
}
